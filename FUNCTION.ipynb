{
 "cells": [
  {
   "cell_type": "markdown",
   "id": "ac815fa2-5e1b-4d63-b627-24b53079bb7c",
   "metadata": {},
   "source": [
    "# FUNCTION\n",
    "    >NORMAL FUNCTION--- DEF\n",
    "    \n",
    "        >DEFAULT ARGUMENTS\n",
    "        \n",
    "        >KEYWORD ARGUMENTS\n",
    "        \n",
    "        >POSITIONAL ARGUMENTS\n",
    "        \n",
    "        >POSITONAL KEYWORD ARGUMENTS\n",
    "        \n",
    "        >ARBITRARY POSITIONAL ARGUMENTS\n",
    "        \n",
    "        >ARBITRARY KEYWORD ARGUMENTS\n",
    "        \n",
    "    >NESTED FUNCTION\n",
    "    \n",
    "    >DECORATOR\n",
    "    \n",
    "    >GENERATOR\n",
    "    \n",
    "    >GLOBAL/LOCAL VARIABLE\n",
    "    \n",
    "    >ANONYMOUS FUNCTION--- LAMBDA "
   ]
  },
  {
   "cell_type": "code",
   "execution_count": 1,
   "id": "36a7b267-e918-4036-9564-e5d54f53d98d",
   "metadata": {},
   "outputs": [],
   "source": [
    "def hello():\n",
    "    print(\"hello world\")"
   ]
  },
  {
   "cell_type": "code",
   "execution_count": 2,
   "id": "3aea8f56-36d6-4c78-a590-fe0148bdfc22",
   "metadata": {},
   "outputs": [
    {
     "name": "stdout",
     "output_type": "stream",
     "text": [
      "hello world\n"
     ]
    }
   ],
   "source": [
    "hello()"
   ]
  },
  {
   "cell_type": "code",
   "execution_count": 6,
   "id": "b097769b-f2b1-4df1-94ca-22740452c585",
   "metadata": {},
   "outputs": [],
   "source": [
    "def hello1():\n",
    "    for i in range(5):\n",
    "        print(\"hello world\")"
   ]
  },
  {
   "cell_type": "code",
   "execution_count": 7,
   "id": "dbe6a9b3-e2c9-4179-a982-b0610c370497",
   "metadata": {},
   "outputs": [
    {
     "name": "stdout",
     "output_type": "stream",
     "text": [
      "hello world\n",
      "hello world\n",
      "hello world\n",
      "hello world\n",
      "hello world\n"
     ]
    }
   ],
   "source": [
    "hello1()"
   ]
  },
  {
   "cell_type": "code",
   "execution_count": 14,
   "id": "bb654529-a671-48d1-bf53-319690613f2c",
   "metadata": {},
   "outputs": [],
   "source": [
    "def intro(name,f,m):\n",
    "    print(\"i am {},my father's  name is {} and my mother's name is {}\".format(name,f,m))"
   ]
  },
  {
   "cell_type": "code",
   "execution_count": 15,
   "id": "77e02d97-f744-479b-8c2c-bf6e5025d48c",
   "metadata": {},
   "outputs": [
    {
     "name": "stdout",
     "output_type": "stream",
     "text": [
      "i am tanya,my father's  name is satish and my mother's name is kavita\n"
     ]
    }
   ],
   "source": [
    "intro(\"tanya\",\"satish\",\"kavita\")"
   ]
  },
  {
   "cell_type": "code",
   "execution_count": 18,
   "id": "65103135-cd4d-45c7-afa2-9bd8f4c1c0c2",
   "metadata": {},
   "outputs": [],
   "source": [
    "def pattern():\n",
    "    for i in range(5):\n",
    "        print(\"*\"*(i+1))"
   ]
  },
  {
   "cell_type": "code",
   "execution_count": 19,
   "id": "6588c9b5-9f0f-4a74-9441-e0e350555545",
   "metadata": {},
   "outputs": [
    {
     "name": "stdout",
     "output_type": "stream",
     "text": [
      "*\n",
      "**\n",
      "***\n",
      "****\n",
      "*****\n"
     ]
    }
   ],
   "source": [
    "pattern()"
   ]
  },
  {
   "cell_type": "code",
   "execution_count": 20,
   "id": "32a9c138-0a71-427a-90b0-1b5fbc226937",
   "metadata": {},
   "outputs": [],
   "source": [
    "def add(a,b):\n",
    "    return(a+b)                                        #RETURN"
   ]
  },
  {
   "cell_type": "code",
   "execution_count": 21,
   "id": "bfe3274c-3a64-4a16-94e6-c0be552efd08",
   "metadata": {},
   "outputs": [],
   "source": [
    "def div(c):\n",
    "    return(c/2)                                              #RETURN"
   ]
  },
  {
   "cell_type": "code",
   "execution_count": 26,
   "id": "f9eada73-4cd9-4092-9e8d-1c10ef4d8972",
   "metadata": {},
   "outputs": [],
   "source": [
    "c=add(10,20)"
   ]
  },
  {
   "cell_type": "code",
   "execution_count": 27,
   "id": "92aca391-bf64-44b5-86b6-f87418bc997d",
   "metadata": {},
   "outputs": [
    {
     "name": "stdout",
     "output_type": "stream",
     "text": [
      "30\n"
     ]
    }
   ],
   "source": [
    "print(c)"
   ]
  },
  {
   "cell_type": "code",
   "execution_count": 28,
   "id": "2104ca84-e333-43c9-87bc-86c6835aa6cf",
   "metadata": {},
   "outputs": [],
   "source": [
    "d=div(c)"
   ]
  },
  {
   "cell_type": "code",
   "execution_count": 29,
   "id": "a50dd7f3-4dec-4aa0-bf9a-b6fedfebecd5",
   "metadata": {},
   "outputs": [
    {
     "name": "stdout",
     "output_type": "stream",
     "text": [
      "15.0\n"
     ]
    }
   ],
   "source": [
    "print(d)"
   ]
  },
  {
   "cell_type": "code",
   "execution_count": 1,
   "id": "d22c29c7-5a4a-4e18-af45-bdec976662b8",
   "metadata": {},
   "outputs": [],
   "source": [
    "def rate_of_interest(prinicipal,rate,time):\n",
    "    print((prinicipal*rate*time)/100)"
   ]
  },
  {
   "cell_type": "code",
   "execution_count": 2,
   "id": "51060198-5fdc-4b0d-b5f2-0151062ae7ec",
   "metadata": {},
   "outputs": [
    {
     "name": "stdout",
     "output_type": "stream",
     "text": [
      "2000.0\n"
     ]
    }
   ],
   "source": [
    "rate_of_interest(10000,10,2)"
   ]
  },
  {
   "cell_type": "code",
   "execution_count": 17,
   "id": "31e036e1-e433-4eb8-a54b-5f781087a634",
   "metadata": {},
   "outputs": [],
   "source": [
    "a=[78,90,76,65,9,31]\n",
    "def sort1(arg):\n",
    "    arg.sort()\n",
    "    print(arg)"
   ]
  },
  {
   "cell_type": "code",
   "execution_count": 18,
   "id": "f01468bf-4e59-4573-8bc0-1dea7793b7c8",
   "metadata": {},
   "outputs": [
    {
     "name": "stdout",
     "output_type": "stream",
     "text": [
      "[9, 31, 65, 76, 78, 90]\n"
     ]
    }
   ],
   "source": [
    "sort1(a)\n"
   ]
  },
  {
   "cell_type": "code",
   "execution_count": 31,
   "id": "fdf7e34d-5312-4120-9751-e23b632f908e",
   "metadata": {},
   "outputs": [],
   "source": [
    "def sort3(arg):\n",
    "    arg.sort()\n",
    "    print(arg)"
   ]
  },
  {
   "cell_type": "code",
   "execution_count": 32,
   "id": "11e38ef3-80a7-4499-ac0c-066d56838dc8",
   "metadata": {},
   "outputs": [
    {
     "name": "stdout",
     "output_type": "stream",
     "text": [
      "[7, 67, 76, 90]\n"
     ]
    }
   ],
   "source": [
    "sort3([67,90,76,7])"
   ]
  },
  {
   "cell_type": "code",
   "execution_count": 19,
   "id": "5e7e672c-1c4c-47f2-950f-9bd0ac6e1ce6",
   "metadata": {},
   "outputs": [],
   "source": [
    "def sort1(a):\n",
    "    a.sort()\n",
    "    print(a)"
   ]
  },
  {
   "cell_type": "code",
   "execution_count": 21,
   "id": "ed63affe-831e-4717-a8c6-6cf6435ec627",
   "metadata": {},
   "outputs": [
    {
     "name": "stdout",
     "output_type": "stream",
     "text": [
      "[9, 31, 65, 76, 78, 90]\n"
     ]
    }
   ],
   "source": [
    "sort1(a)"
   ]
  },
  {
   "cell_type": "code",
   "execution_count": 27,
   "id": "76aa55af-ec07-44d1-aa40-4b2838bde1d7",
   "metadata": {},
   "outputs": [],
   "source": [
    "def even_odd(n):\n",
    "    odd=[]\n",
    "    even=[]\n",
    "    for i in n:\n",
    "        if i%2==0:\n",
    "            even.append(i)\n",
    "        else:\n",
    "            odd.append(i)\n",
    "    print(\"odd:\",odd)\n",
    "    print(\"even:\",even)"
   ]
  },
  {
   "cell_type": "code",
   "execution_count": 30,
   "id": "cd56815a-2f85-4c59-8302-7378273e1605",
   "metadata": {},
   "outputs": [
    {
     "name": "stdout",
     "output_type": "stream",
     "text": [
      "odd: [9, 31]\n",
      "even: [78, 990, 76, 378]\n"
     ]
    }
   ],
   "source": [
    "even_odd([78,990,76,378,9,31])"
   ]
  },
  {
   "cell_type": "markdown",
   "id": "71f1502a-d2c6-46c2-9a5a-914a6e6c1ba5",
   "metadata": {},
   "source": [
    "# GLOBAL/LOCAL VARIABLE"
   ]
  },
  {
   "cell_type": "code",
   "execution_count": 33,
   "id": "8895ea5a-a398-4e0d-929d-e71f3e42277f",
   "metadata": {},
   "outputs": [],
   "source": [
    "def add():\n",
    "    a=10                                            #local\n",
    "    b=20\n",
    "    print(a+b)"
   ]
  },
  {
   "cell_type": "code",
   "execution_count": 34,
   "id": "ed79a0ee-c4d7-451c-91f1-dc9849ae6dcc",
   "metadata": {},
   "outputs": [
    {
     "name": "stdout",
     "output_type": "stream",
     "text": [
      "30\n"
     ]
    }
   ],
   "source": [
    "add()"
   ]
  },
  {
   "cell_type": "code",
   "execution_count": 35,
   "id": "511b13d6-6cfb-434e-8dc8-45f2a39ee292",
   "metadata": {},
   "outputs": [],
   "source": [
    "a=10\n",
    "b=20                                               #global\n",
    "def sum():\n",
    "    print(a+b)"
   ]
  },
  {
   "cell_type": "code",
   "execution_count": 36,
   "id": "0916d03b-7b21-4ece-8c97-f56f0340fe60",
   "metadata": {},
   "outputs": [
    {
     "name": "stdout",
     "output_type": "stream",
     "text": [
      "30\n"
     ]
    }
   ],
   "source": [
    "sum()"
   ]
  },
  {
   "cell_type": "code",
   "execution_count": 39,
   "id": "80145006-f5d6-4c09-99db-224ee42682fe",
   "metadata": {},
   "outputs": [],
   "source": [
    "def sum1():\n",
    "    global a,b\n",
    "    a=31\n",
    "    b=9\n",
    "    print(a+b)"
   ]
  },
  {
   "cell_type": "code",
   "execution_count": 40,
   "id": "4ffb5d45-6467-450b-af0b-d28d6c41e64e",
   "metadata": {},
   "outputs": [
    {
     "name": "stdout",
     "output_type": "stream",
     "text": [
      "40\n"
     ]
    }
   ],
   "source": [
    "sum1()"
   ]
  },
  {
   "cell_type": "code",
   "execution_count": 41,
   "id": "5d0e7ddf-2691-4adb-a864-7740b9b88a3b",
   "metadata": {},
   "outputs": [
    {
     "name": "stdout",
     "output_type": "stream",
     "text": [
      "31\n"
     ]
    }
   ],
   "source": [
    "print(a)"
   ]
  },
  {
   "cell_type": "code",
   "execution_count": 42,
   "id": "238f8040-1f22-4be1-99e4-453047d9f913",
   "metadata": {},
   "outputs": [
    {
     "name": "stdout",
     "output_type": "stream",
     "text": [
      "9\n"
     ]
    }
   ],
   "source": [
    "print(b)"
   ]
  },
  {
   "cell_type": "markdown",
   "id": "f281a42a-1736-4f0f-b4a8-4bab64f9fa2e",
   "metadata": {},
   "source": [
    "# DEFAULT"
   ]
  },
  {
   "cell_type": "code",
   "execution_count": 45,
   "id": "0a81596b-acc0-4cb3-8419-cfa989705281",
   "metadata": {},
   "outputs": [],
   "source": [
    "def sum1(a=10,b=20):\n",
    "    print(a+b)"
   ]
  },
  {
   "cell_type": "code",
   "execution_count": 46,
   "id": "6fbccc14-c023-47ec-a995-6b7d71382859",
   "metadata": {},
   "outputs": [
    {
     "name": "stdout",
     "output_type": "stream",
     "text": [
      "30\n"
     ]
    }
   ],
   "source": [
    "sum1()"
   ]
  },
  {
   "cell_type": "markdown",
   "id": "ee152856-39fc-4c2f-be4b-a0bd119f0318",
   "metadata": {},
   "source": [
    "# KEYWORD"
   ]
  },
  {
   "cell_type": "code",
   "execution_count": 48,
   "id": "c7c134c0-c2af-4fe6-9513-61ff1ade6c5b",
   "metadata": {},
   "outputs": [],
   "source": [
    "def sum2(h=90,i=10):\n",
    "    print(h+i)"
   ]
  },
  {
   "cell_type": "code",
   "execution_count": 54,
   "id": "55582805-449f-4eb2-b87d-e71003c2d83d",
   "metadata": {},
   "outputs": [
    {
     "name": "stdout",
     "output_type": "stream",
     "text": [
      "40\n"
     ]
    }
   ],
   "source": [
    "sum2(i=31,h=9)"
   ]
  },
  {
   "cell_type": "markdown",
   "id": "dc532c59-8396-401c-8948-43724824ea4a",
   "metadata": {},
   "source": [
    "# POSITIONAL"
   ]
  },
  {
   "cell_type": "code",
   "execution_count": 64,
   "id": "162b3c0f-3c35-47aa-a493-cd45949dd928",
   "metadata": {},
   "outputs": [],
   "source": [
    "def sum3(a,b):\n",
    "    print(a+b)"
   ]
  },
  {
   "cell_type": "code",
   "execution_count": 65,
   "id": "ec43025b-b87d-4b64-9b74-aac9b9833789",
   "metadata": {},
   "outputs": [
    {
     "name": "stdout",
     "output_type": "stream",
     "text": [
      "40\n"
     ]
    }
   ],
   "source": [
    "sum3(31,9)"
   ]
  },
  {
   "cell_type": "markdown",
   "id": "00c21313-bb41-413d-b0df-b2c18e728821",
   "metadata": {},
   "source": [
    "# POSITONAL KEYWORD "
   ]
  },
  {
   "cell_type": "code",
   "execution_count": 67,
   "id": "b085329a-171a-40d1-8cc1-6cea6b6d1cce",
   "metadata": {},
   "outputs": [],
   "source": [
    "def sum4(a,b):\n",
    "    print(a*b)"
   ]
  },
  {
   "cell_type": "code",
   "execution_count": 69,
   "id": "255a354c-e5e2-4c2f-88b1-efccaf0d632b",
   "metadata": {},
   "outputs": [
    {
     "name": "stdout",
     "output_type": "stream",
     "text": [
      "279\n"
     ]
    }
   ],
   "source": [
    "sum4(a=31,b=9)"
   ]
  },
  {
   "cell_type": "markdown",
   "id": "b137c440-eaab-4515-9e5f-2908ecea4367",
   "metadata": {},
   "source": [
    "# ARBITRARY POSITIONAL"
   ]
  },
  {
   "cell_type": "code",
   "execution_count": 79,
   "id": "96e45ca9-e247-44df-b700-6f431de49e9d",
   "metadata": {},
   "outputs": [],
   "source": [
    "def sum5(*n):\n",
    "    k=0\n",
    "    for i in n:\n",
    "        k=k+i\n",
    "    print(k)"
   ]
  },
  {
   "cell_type": "code",
   "execution_count": 80,
   "id": "73ea73e2-da65-47a4-8ba2-cc27031e1b40",
   "metadata": {},
   "outputs": [
    {
     "name": "stdout",
     "output_type": "stream",
     "text": [
      "53\n"
     ]
    }
   ],
   "source": [
    "sum5(31,9,3,1,9)"
   ]
  },
  {
   "cell_type": "code",
   "execution_count": 81,
   "id": "e5be9598-5342-4af6-95b5-4ef68921eae0",
   "metadata": {},
   "outputs": [],
   "source": [
    "def add6(*n):\n",
    "    k=0\n",
    "    for i in n:\n",
    "        k=k+i\n",
    "    print(k)"
   ]
  },
  {
   "cell_type": "code",
   "execution_count": 82,
   "id": "c6c149ac-3be8-46cf-b08b-3df7b5039285",
   "metadata": {},
   "outputs": [
    {
     "name": "stdout",
     "output_type": "stream",
     "text": [
      "94\n"
     ]
    }
   ],
   "source": [
    "add6(1,2,3,4,5,63,2,2,3,5,4)"
   ]
  },
  {
   "cell_type": "code",
   "execution_count": 83,
   "id": "1ff60a58-725b-4c82-842b-0a53b8a6448a",
   "metadata": {},
   "outputs": [],
   "source": [
    "def add_multiple(*n):\n",
    "    b=0\n",
    "    for i in n:\n",
    "        b=b*i\n",
    "    return b"
   ]
  },
  {
   "cell_type": "code",
   "execution_count": 84,
   "id": "b5dcd864-803a-4dc9-bcbc-1d98a5b545a2",
   "metadata": {},
   "outputs": [
    {
     "data": {
      "text/plain": [
       "0"
      ]
     },
     "execution_count": 84,
     "metadata": {},
     "output_type": "execute_result"
    }
   ],
   "source": [
    "add_multiple(33,4,2,4)"
   ]
  },
  {
   "cell_type": "markdown",
   "id": "7406d03a-0ea6-4b54-b1d3-7a0596e3b96d",
   "metadata": {},
   "source": [
    "# ARBITRARY KEYWORD"
   ]
  },
  {
   "cell_type": "code",
   "execution_count": 77,
   "id": "0c4c1326-e0f6-4b0d-990e-0d4bbe57e8f1",
   "metadata": {},
   "outputs": [],
   "source": [
    "def add7(**n):\n",
    "    print(n)"
   ]
  },
  {
   "cell_type": "code",
   "execution_count": 78,
   "id": "42739511-a65e-4604-b236-a0ee4fc07744",
   "metadata": {},
   "outputs": [
    {
     "name": "stdout",
     "output_type": "stream",
     "text": [
      "{'name': 'Tanya', 'Age': 20}\n"
     ]
    }
   ],
   "source": [
    "add7(name=\"Tanya\",Age=20)"
   ]
  },
  {
   "cell_type": "code",
   "execution_count": 89,
   "id": "a79ca3b4-e140-4de9-9abc-3fe34d1768d2",
   "metadata": {},
   "outputs": [],
   "source": [
    " def calculator():\n",
    "     num1=eval(input(\"Enter 1st number:\"))\n",
    "     num2=eval(input(\"Enter 2nd number:\"))\n",
    "     option=input(\"choose valid operation out of +,-,/,*:\")\n",
    "     if option==\"+\":\n",
    "         result=(num1+num2)\n",
    "     elif option==\"-\":\n",
    "         result=(num1-num2)\n",
    "     elif option==\"/\":\n",
    "         result=(num1/num2)\n",
    "     elif optiion==\"*\":\n",
    "         result=(num1*num2)\n",
    "     else:\n",
    "         result=(\"kindly choose a valid option\")\n",
    "     return result"
   ]
  },
  {
   "cell_type": "code",
   "execution_count": 90,
   "id": "5b25fde7-a00c-4f14-b3ee-5d0a38d1454c",
   "metadata": {},
   "outputs": [
    {
     "name": "stdin",
     "output_type": "stream",
     "text": [
      "Enter 1st number: 31\n",
      "Enter 2nd number: 9\n",
      "choose valid operation out of +,-,/,*: +\n"
     ]
    }
   ],
   "source": [
    "a=calculator()"
   ]
  },
  {
   "cell_type": "code",
   "execution_count": 91,
   "id": "a2ccd3d4-210a-4448-a2c0-8a9343c0b095",
   "metadata": {},
   "outputs": [
    {
     "name": "stdout",
     "output_type": "stream",
     "text": [
      "40\n"
     ]
    }
   ],
   "source": [
    "print(a)"
   ]
  },
  {
   "cell_type": "code",
   "execution_count": 92,
   "id": "43edce15-01e5-44ac-a026-675e096bff06",
   "metadata": {},
   "outputs": [
    {
     "name": "stdin",
     "output_type": "stream",
     "text": [
      "Enter 1st number: 40\n",
      "Enter 2nd number: 31\n",
      "choose valid operation out of +,-,/,*: -\n"
     ]
    }
   ],
   "source": [
    "b=calculator()"
   ]
  },
  {
   "cell_type": "code",
   "execution_count": 93,
   "id": "803fd681-427d-4bae-8c98-b54670c6d41d",
   "metadata": {},
   "outputs": [
    {
     "name": "stdout",
     "output_type": "stream",
     "text": [
      "9\n"
     ]
    }
   ],
   "source": [
    "print(b)"
   ]
  },
  {
   "cell_type": "code",
   "execution_count": 94,
   "id": "10625803-9875-4200-bb2b-26ab544943e2",
   "metadata": {},
   "outputs": [
    {
     "name": "stdout",
     "output_type": "stream",
     "text": [
      "360\n"
     ]
    }
   ],
   "source": [
    "print(a*b)"
   ]
  },
  {
   "cell_type": "markdown",
   "id": "85b2e468-4761-4ba4-8919-809d92961945",
   "metadata": {},
   "source": [
    " # NESTED FUNCTION"
   ]
  },
  {
   "cell_type": "code",
   "execution_count": 96,
   "id": "da3d0a68-c1d3-4716-a179-739764aa6b97",
   "metadata": {},
   "outputs": [],
   "source": [
    "def travel():\n",
    "    print(\"i am going to srinagar\")"
   ]
  },
  {
   "cell_type": "code",
   "execution_count": 98,
   "id": "ae87c1da-15cf-49d5-a26d-efae0affdcc2",
   "metadata": {},
   "outputs": [],
   "source": [
    "def car(arg):\n",
    "    def tanya():\n",
    "        print(\"i will go by car\")\n",
    "        arg()\n",
    "    return tanya"
   ]
  },
  {
   "cell_type": "code",
   "execution_count": 104,
   "id": "0bf35647-382f-461a-91de-f465b0f2ccb0",
   "metadata": {},
   "outputs": [],
   "source": [
    "a=car(travel)"
   ]
  },
  {
   "cell_type": "code",
   "execution_count": 105,
   "id": "c7f8e5f2-23a2-4826-b88d-c3953dbc5c87",
   "metadata": {},
   "outputs": [
    {
     "name": "stdout",
     "output_type": "stream",
     "text": [
      "i will go by car\n",
      "i am going to srinagar\n"
     ]
    }
   ],
   "source": [
    "a()"
   ]
  },
  {
   "cell_type": "markdown",
   "id": "8e1c99d3-d1ce-495b-ba1d-9c4c796a201f",
   "metadata": {},
   "source": [
    "# DECORATOR"
   ]
  },
  {
   "cell_type": "code",
   "execution_count": 107,
   "id": "67f03c7d-0156-4bdc-ba54-eb8c6f16bad2",
   "metadata": {},
   "outputs": [],
   "source": [
    "def tanya(arg):\n",
    "    def inner():\n",
    "        print(\"i am sorry yobhav\")\n",
    "        arg()\n",
    "    return inner()"
   ]
  },
  {
   "cell_type": "code",
   "execution_count": 108,
   "id": "3e4ee7e4-70c6-4c35-af98-f732dcb3b522",
   "metadata": {},
   "outputs": [
    {
     "name": "stdout",
     "output_type": "stream",
     "text": [
      "i am sorry yobhav\n",
      "yobhav will not talk with tanya\n"
     ]
    }
   ],
   "source": [
    "@tanya\n",
    "def yobhav():\n",
    "    print(\"yobhav will not talk with tanya\")"
   ]
  },
  {
   "cell_type": "markdown",
   "id": "b3f3fa3e-aefe-4560-a6b9-52bd8c214eae",
   "metadata": {},
   "source": [
    "# GENERATOR"
   ]
  },
  {
   "cell_type": "code",
   "execution_count": 110,
   "id": "c6b42644-6653-4e17-bbdf-126aefbe4b52",
   "metadata": {},
   "outputs": [],
   "source": [
    "def count():\n",
    "    yield 31\n",
    "    yield 9"
   ]
  },
  {
   "cell_type": "code",
   "execution_count": 111,
   "id": "a245a122-b9b3-47da-ae4c-27d8e79767f2",
   "metadata": {},
   "outputs": [],
   "source": [
    "a=count()\n"
   ]
  },
  {
   "cell_type": "code",
   "execution_count": 112,
   "id": "3216c5f2-f1c8-4b21-9ce2-29aae94ad72d",
   "metadata": {},
   "outputs": [
    {
     "data": {
      "text/plain": [
       "31"
      ]
     },
     "execution_count": 112,
     "metadata": {},
     "output_type": "execute_result"
    }
   ],
   "source": [
    "next(a)"
   ]
  },
  {
   "cell_type": "code",
   "execution_count": 113,
   "id": "dcbf7c19-a691-48d1-9053-976623af23c4",
   "metadata": {},
   "outputs": [
    {
     "data": {
      "text/plain": [
       "9"
      ]
     },
     "execution_count": 113,
     "metadata": {},
     "output_type": "execute_result"
    }
   ],
   "source": [
    "next(a)"
   ]
  },
  {
   "cell_type": "code",
   "execution_count": 114,
   "id": "db3a2d40-44ca-4b59-bd79-d2c55877bd42",
   "metadata": {},
   "outputs": [
    {
     "ename": "StopIteration",
     "evalue": "",
     "output_type": "error",
     "traceback": [
      "\u001b[1;31m---------------------------------------------------------------------------\u001b[0m",
      "\u001b[1;31mStopIteration\u001b[0m                             Traceback (most recent call last)",
      "Cell \u001b[1;32mIn[114], line 1\u001b[0m\n\u001b[1;32m----> 1\u001b[0m \u001b[38;5;28;43mnext\u001b[39;49m\u001b[43m(\u001b[49m\u001b[43ma\u001b[49m\u001b[43m)\u001b[49m\n",
      "\u001b[1;31mStopIteration\u001b[0m: "
     ]
    }
   ],
   "source": [
    "next(a)\n"
   ]
  },
  {
   "cell_type": "markdown",
   "id": "e1dcaeec-2e04-4b90-9edd-8460a76cde95",
   "metadata": {},
   "source": [
    "# LAMBDA"
   ]
  },
  {
   "cell_type": "code",
   "execution_count": 115,
   "id": "e25309b8-473d-41c1-91f6-573231499e57",
   "metadata": {},
   "outputs": [],
   "source": [
    "x=lambda a,b:a+b"
   ]
  },
  {
   "cell_type": "code",
   "execution_count": 116,
   "id": "3fefd366-4219-477a-ad59-2e6518295091",
   "metadata": {},
   "outputs": [
    {
     "data": {
      "text/plain": [
       "40"
      ]
     },
     "execution_count": 116,
     "metadata": {},
     "output_type": "execute_result"
    }
   ],
   "source": [
    "x(31,9)"
   ]
  },
  {
   "cell_type": "code",
   "execution_count": 117,
   "id": "cd46bc7c-42cc-438f-9a23-d937a5669ba6",
   "metadata": {},
   "outputs": [],
   "source": [
    "b=lambda:print(2)"
   ]
  },
  {
   "cell_type": "code",
   "execution_count": 118,
   "id": "618ad52b-929d-48a6-bdf9-e0f70bd063d4",
   "metadata": {},
   "outputs": [
    {
     "name": "stdout",
     "output_type": "stream",
     "text": [
      "2\n"
     ]
    }
   ],
   "source": [
    "b()"
   ]
  },
  {
   "cell_type": "code",
   "execution_count": 119,
   "id": "c660a947-2460-4187-8613-48a6efe891bf",
   "metadata": {},
   "outputs": [],
   "source": [
    "a=lambda name:print(\"i am {}\".format(name))"
   ]
  },
  {
   "cell_type": "code",
   "execution_count": 120,
   "id": "16b36766-9a81-4d59-a238-598c4311f6df",
   "metadata": {},
   "outputs": [
    {
     "name": "stdout",
     "output_type": "stream",
     "text": [
      "i am tanya\n"
     ]
    }
   ],
   "source": [
    "a(\"tanya\")"
   ]
  },
  {
   "cell_type": "code",
   "execution_count": null,
   "id": "fcfe8776-de52-4855-9318-631fa14783e9",
   "metadata": {},
   "outputs": [],
   "source": []
  }
 ],
 "metadata": {
  "kernelspec": {
   "display_name": "Python 3 (ipykernel)",
   "language": "python",
   "name": "python3"
  },
  "language_info": {
   "codemirror_mode": {
    "name": "ipython",
    "version": 3
   },
   "file_extension": ".py",
   "mimetype": "text/x-python",
   "name": "python",
   "nbconvert_exporter": "python",
   "pygments_lexer": "ipython3",
   "version": "3.11.5"
  }
 },
 "nbformat": 4,
 "nbformat_minor": 5
}
